{
 "cells": [
  {
   "cell_type": "code",
   "execution_count": 1,
   "id": "727861a5",
   "metadata": {},
   "outputs": [],
   "source": [
    "import pandas as pd\n",
    "from matplotlib import pyplot as plt \n",
    "import seaborn as sns"
   ]
  },
  {
   "cell_type": "code",
   "execution_count": 3,
   "id": "a4561c83",
   "metadata": {},
   "outputs": [
    {
     "data": {
      "text/html": [
       "<div>\n",
       "<style scoped>\n",
       "    .dataframe tbody tr th:only-of-type {\n",
       "        vertical-align: middle;\n",
       "    }\n",
       "\n",
       "    .dataframe tbody tr th {\n",
       "        vertical-align: top;\n",
       "    }\n",
       "\n",
       "    .dataframe thead th {\n",
       "        text-align: right;\n",
       "    }\n",
       "</style>\n",
       "<table border=\"1\" class=\"dataframe\">\n",
       "  <thead>\n",
       "    <tr style=\"text-align: right;\">\n",
       "      <th></th>\n",
       "      <th>City</th>\n",
       "      <th>Bill</th>\n",
       "    </tr>\n",
       "  </thead>\n",
       "  <tbody>\n",
       "    <tr>\n",
       "      <th>0</th>\n",
       "      <td>Mumbai</td>\n",
       "      <td>15400</td>\n",
       "    </tr>\n",
       "    <tr>\n",
       "      <th>1</th>\n",
       "      <td>Mumbai</td>\n",
       "      <td>6700</td>\n",
       "    </tr>\n",
       "    <tr>\n",
       "      <th>2</th>\n",
       "      <td>Mumbai</td>\n",
       "      <td>16300</td>\n",
       "    </tr>\n",
       "    <tr>\n",
       "      <th>3</th>\n",
       "      <td>Mumbai</td>\n",
       "      <td>2100</td>\n",
       "    </tr>\n",
       "    <tr>\n",
       "      <th>4</th>\n",
       "      <td>Mumbai</td>\n",
       "      <td>4600</td>\n",
       "    </tr>\n",
       "  </tbody>\n",
       "</table>\n",
       "</div>"
      ],
      "text/plain": [
       "     City   Bill\n",
       "0  Mumbai  15400\n",
       "1  Mumbai   6700\n",
       "2  Mumbai  16300\n",
       "3  Mumbai   2100\n",
       "4  Mumbai   4600"
      ]
     },
     "execution_count": 3,
     "metadata": {},
     "output_type": "execute_result"
    }
   ],
   "source": [
    "df = pd.read_csv('bill_survey.csv')\n",
    "df.head()"
   ]
  },
  {
   "cell_type": "code",
   "execution_count": 4,
   "id": "9f01c055",
   "metadata": {},
   "outputs": [
    {
     "data": {
      "text/plain": [
       "(10350, 2)"
      ]
     },
     "execution_count": 4,
     "metadata": {},
     "output_type": "execute_result"
    }
   ],
   "source": [
    "df.shape"
   ]
  },
  {
   "cell_type": "code",
   "execution_count": 7,
   "id": "0d04b6d6",
   "metadata": {},
   "outputs": [
    {
     "data": {
      "text/plain": [
       "207"
      ]
     },
     "execution_count": 7,
     "metadata": {},
     "output_type": "execute_result"
    }
   ],
   "source": [
    "df.City.nunique()"
   ]
  },
  {
   "cell_type": "code",
   "execution_count": 26,
   "id": "757942dc",
   "metadata": {},
   "outputs": [
    {
     "data": {
      "image/png": "[encoded data removed]",
      "text/plain": [
       "<Figure size 432x288 with 1 Axes>"
      ]
     },
     "metadata": {
      "needs_background": "light"
     },
     "output_type": "display_data"
    }
   ],
   "source": [
    "sns.histplot(df.Bill, kde =True)\n",
    "plt.show()"
   ]
  },
  {
   "cell_type": "code",
   "execution_count": 12,
   "id": "7110818a",
   "metadata": {},
   "outputs": [
    {
     "data": {
      "text/plain": [
       "0     15400\n",
       "1      6700\n",
       "2     16300\n",
       "3      2100\n",
       "4      4600\n",
       "5      6800\n",
       "6      8600\n",
       "7      5500\n",
       "8      6900\n",
       "9      6400\n",
       "10    13300\n",
       "11     4200\n",
       "12      200\n",
       "13     8000\n",
       "14    19900\n",
       "15     1200\n",
       "16    13600\n",
       "17    13100\n",
       "18     2300\n",
       "19      600\n",
       "20    11400\n",
       "21    11300\n",
       "22     1900\n",
       "23     1300\n",
       "24     3300\n",
       "25     3500\n",
       "26     1000\n",
       "27     4200\n",
       "28     2300\n",
       "29     6700\n",
       "30     4900\n",
       "31     6800\n",
       "32     2900\n",
       "33     3700\n",
       "34     2500\n",
       "35      900\n",
       "36     1000\n",
       "37     7000\n",
       "38     8400\n",
       "39     5500\n",
       "40     6700\n",
       "41     2800\n",
       "42     3900\n",
       "43     5200\n",
       "44     1700\n",
       "45     9400\n",
       "46     7000\n",
       "47     1100\n",
       "48    11100\n",
       "49     4300\n",
       "Name: Bill, dtype: int64"
      ]
     },
     "execution_count": 12,
     "metadata": {},
     "output_type": "execute_result"
    }
   ],
   "source": [
    "df[df.City==\"Mumbai\"].Bill"
   ]
  },
  {
   "cell_type": "code",
   "execution_count": 13,
   "id": "4bfb72c6",
   "metadata": {},
   "outputs": [
    {
     "data": {
      "text/plain": [
       "<AxesSubplot:xlabel='Bill', ylabel='Count'>"
      ]
     },
     "execution_count": 13,
     "metadata": {},
     "output_type": "execute_result"
    },
    {
     "data": {
      "image/png": "[encoded data removed]",
      "text/plain": [
       "<Figure size 432x288 with 1 Axes>"
      ]
     },
     "metadata": {
      "needs_background": "light"
     },
     "output_type": "display_data"
    }
   ],
   "source": [
    "sns.histplot(df[df.City==\"Mumbai\"].Bill, kde = True)"
   ]
  },
  {
   "cell_type": "markdown",
   "id": "fec14194",
   "metadata": {},
   "source": [
    "# Calculating sample means"
   ]
  },
  {
   "cell_type": "code",
   "execution_count": 23,
   "id": "42990356",
   "metadata": {},
   "outputs": [
    {
     "data": {
      "text/plain": [
       "207"
      ]
     },
     "execution_count": 23,
     "metadata": {},
     "output_type": "execute_result"
    }
   ],
   "source": [
    "sample_means = []\n",
    "for city, subdf in df.groupby(\"City\"):\n",
    "    sample_means.append(subdf.Bill.mean())\n",
    "len(sample_means)"
   ]
  },
  {
   "cell_type": "code",
   "execution_count": 25,
   "id": "331cf0c4",
   "metadata": {},
   "outputs": [
    {
     "data": {
      "image/png": "[encoded data removed]",
      "text/plain": [
       "<Figure size 432x288 with 1 Axes>"
      ]
     },
     "metadata": {
      "needs_background": "light"
     },
     "output_type": "display_data"
    }
   ],
   "source": [
    "sns.histplot(sample_means, kde = True)\n",
    "plt.show()"
   ]
  },
  {
   "cell_type": "code",
   "execution_count": null,
   "id": "ed7524cd",
   "metadata": {},
   "outputs": [],
   "source": []
  }
 ],
 "metadata": {
  "kernelspec": {
   "display_name": "Python 3 (ipykernel)",
   "language": "python",
   "name": "python3"
  },
  "language_info": {
   "codemirror_mode": {
    "name": "ipython",
    "version": 3
   },
   "file_extension": ".py",
   "mimetype": "text/x-python",
   "name": "python",
   "nbconvert_exporter": "python",
   "pygments_lexer": "ipython3",
   "version": "3.9.12"
  }
 },
 "nbformat": 4,
 "nbformat_minor": 5
}
